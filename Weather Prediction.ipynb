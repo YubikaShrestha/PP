{
 "cells": [
  {
   "cell_type": "code",
   "execution_count": 1,
   "id": "11522651",
   "metadata": {},
   "outputs": [
    {
     "name": "stdout",
     "output_type": "stream",
     "text": [
      "Requirement already satisfied: pandas in c:\\users\\yubik\\appdata\\local\\programs\\python\\python311\\lib\\site-packages (2.0.1)\n",
      "Requirement already satisfied: python-dateutil>=2.8.2 in c:\\users\\yubik\\appdata\\local\\programs\\python\\python311\\lib\\site-packages (from pandas) (2.8.2)\n",
      "Requirement already satisfied: pytz>=2020.1 in c:\\users\\yubik\\appdata\\local\\programs\\python\\python311\\lib\\site-packages (from pandas) (2023.3)\n",
      "Requirement already satisfied: tzdata>=2022.1 in c:\\users\\yubik\\appdata\\local\\programs\\python\\python311\\lib\\site-packages (from pandas) (2023.3)\n",
      "Requirement already satisfied: numpy>=1.21.0 in c:\\users\\yubik\\appdata\\local\\programs\\python\\python311\\lib\\site-packages (from pandas) (1.24.3)\n",
      "Requirement already satisfied: six>=1.5 in c:\\users\\yubik\\appdata\\local\\programs\\python\\python311\\lib\\site-packages (from python-dateutil>=2.8.2->pandas) (1.16.0)\n"
     ]
    }
   ],
   "source": [
    "!pip install pandas\n"
   ]
  },
  {
   "cell_type": "code",
   "execution_count": 2,
   "id": "a08d9bfb",
   "metadata": {},
   "outputs": [
    {
     "name": "stdout",
     "output_type": "stream",
     "text": [
      "Requirement already satisfied: matplotlib in c:\\users\\yubik\\appdata\\local\\programs\\python\\python311\\lib\\site-packages (3.7.1)\n",
      "Requirement already satisfied: contourpy>=1.0.1 in c:\\users\\yubik\\appdata\\local\\programs\\python\\python311\\lib\\site-packages (from matplotlib) (1.0.7)\n",
      "Requirement already satisfied: cycler>=0.10 in c:\\users\\yubik\\appdata\\local\\programs\\python\\python311\\lib\\site-packages (from matplotlib) (0.11.0)\n",
      "Requirement already satisfied: fonttools>=4.22.0 in c:\\users\\yubik\\appdata\\local\\programs\\python\\python311\\lib\\site-packages (from matplotlib) (4.39.4)\n",
      "Requirement already satisfied: kiwisolver>=1.0.1 in c:\\users\\yubik\\appdata\\local\\programs\\python\\python311\\lib\\site-packages (from matplotlib) (1.4.4)\n",
      "Requirement already satisfied: numpy>=1.20 in c:\\users\\yubik\\appdata\\local\\programs\\python\\python311\\lib\\site-packages (from matplotlib) (1.24.3)\n",
      "Requirement already satisfied: packaging>=20.0 in c:\\users\\yubik\\appdata\\local\\programs\\python\\python311\\lib\\site-packages (from matplotlib) (23.1)\n",
      "Requirement already satisfied: pillow>=6.2.0 in c:\\users\\yubik\\appdata\\local\\programs\\python\\python311\\lib\\site-packages (from matplotlib) (9.5.0)\n",
      "Requirement already satisfied: pyparsing>=2.3.1 in c:\\users\\yubik\\appdata\\local\\programs\\python\\python311\\lib\\site-packages (from matplotlib) (3.0.9)\n",
      "Requirement already satisfied: python-dateutil>=2.7 in c:\\users\\yubik\\appdata\\local\\programs\\python\\python311\\lib\\site-packages (from matplotlib) (2.8.2)\n",
      "Requirement already satisfied: six>=1.5 in c:\\users\\yubik\\appdata\\local\\programs\\python\\python311\\lib\\site-packages (from python-dateutil>=2.7->matplotlib) (1.16.0)\n",
      "Note: you may need to restart the kernel to use updated packages.\n"
     ]
    }
   ],
   "source": [
    "pip install matplotlib"
   ]
  },
  {
   "cell_type": "code",
   "execution_count": 3,
   "id": "5a76d13d",
   "metadata": {},
   "outputs": [],
   "source": [
    "import pandas as pd"
   ]
  },
  {
   "cell_type": "code",
   "execution_count": 4,
   "id": "1554d6e9",
   "metadata": {},
   "outputs": [],
   "source": [
    "weather = pd.read_csv(\"C:\\\\Users\\yubik\\Production Project\\\\okland weather.csv\", index_col=\"DATE\")"
   ]
  },
  {
   "cell_type": "code",
   "execution_count": 5,
   "id": "c096c534",
   "metadata": {},
   "outputs": [
    {
     "data": {
      "text/html": [
       "<div>\n",
       "<style scoped>\n",
       "    .dataframe tbody tr th:only-of-type {\n",
       "        vertical-align: middle;\n",
       "    }\n",
       "\n",
       "    .dataframe tbody tr th {\n",
       "        vertical-align: top;\n",
       "    }\n",
       "\n",
       "    .dataframe thead th {\n",
       "        text-align: right;\n",
       "    }\n",
       "</style>\n",
       "<table border=\"1\" class=\"dataframe\">\n",
       "  <thead>\n",
       "    <tr style=\"text-align: right;\">\n",
       "      <th></th>\n",
       "      <th>STATION</th>\n",
       "      <th>NAME</th>\n",
       "      <th>AWND</th>\n",
       "      <th>FMTM</th>\n",
       "      <th>PGTM</th>\n",
       "      <th>PRCP</th>\n",
       "      <th>SNOW</th>\n",
       "      <th>SNWD</th>\n",
       "      <th>TAVG</th>\n",
       "      <th>TMAX</th>\n",
       "      <th>...</th>\n",
       "      <th>WDF2</th>\n",
       "      <th>WDF5</th>\n",
       "      <th>WSF2</th>\n",
       "      <th>WSF5</th>\n",
       "      <th>WT01</th>\n",
       "      <th>WT02</th>\n",
       "      <th>WT03</th>\n",
       "      <th>WT05</th>\n",
       "      <th>WT08</th>\n",
       "      <th>WT09</th>\n",
       "    </tr>\n",
       "    <tr>\n",
       "      <th>DATE</th>\n",
       "      <th></th>\n",
       "      <th></th>\n",
       "      <th></th>\n",
       "      <th></th>\n",
       "      <th></th>\n",
       "      <th></th>\n",
       "      <th></th>\n",
       "      <th></th>\n",
       "      <th></th>\n",
       "      <th></th>\n",
       "      <th></th>\n",
       "      <th></th>\n",
       "      <th></th>\n",
       "      <th></th>\n",
       "      <th></th>\n",
       "      <th></th>\n",
       "      <th></th>\n",
       "      <th></th>\n",
       "      <th></th>\n",
       "      <th></th>\n",
       "      <th></th>\n",
       "    </tr>\n",
       "  </thead>\n",
       "  <tbody>\n",
       "    <tr>\n",
       "      <th>2000-01-01</th>\n",
       "      <td>USW00023230</td>\n",
       "      <td>OAKLAND INTERNATIONAL AIRPORT, CA US</td>\n",
       "      <td>8.50</td>\n",
       "      <td>1643.0</td>\n",
       "      <td>1638.0</td>\n",
       "      <td>0.00</td>\n",
       "      <td>NaN</td>\n",
       "      <td>NaN</td>\n",
       "      <td>48.0</td>\n",
       "      <td>54.0</td>\n",
       "      <td>...</td>\n",
       "      <td>290.0</td>\n",
       "      <td>290.0</td>\n",
       "      <td>23.9</td>\n",
       "      <td>29.1</td>\n",
       "      <td>NaN</td>\n",
       "      <td>NaN</td>\n",
       "      <td>NaN</td>\n",
       "      <td>NaN</td>\n",
       "      <td>NaN</td>\n",
       "      <td>NaN</td>\n",
       "    </tr>\n",
       "    <tr>\n",
       "      <th>2000-01-02</th>\n",
       "      <td>USW00023230</td>\n",
       "      <td>OAKLAND INTERNATIONAL AIRPORT, CA US</td>\n",
       "      <td>5.37</td>\n",
       "      <td>1743.0</td>\n",
       "      <td>1743.0</td>\n",
       "      <td>0.00</td>\n",
       "      <td>NaN</td>\n",
       "      <td>NaN</td>\n",
       "      <td>44.0</td>\n",
       "      <td>54.0</td>\n",
       "      <td>...</td>\n",
       "      <td>310.0</td>\n",
       "      <td>310.0</td>\n",
       "      <td>16.1</td>\n",
       "      <td>19.9</td>\n",
       "      <td>NaN</td>\n",
       "      <td>NaN</td>\n",
       "      <td>NaN</td>\n",
       "      <td>NaN</td>\n",
       "      <td>NaN</td>\n",
       "      <td>NaN</td>\n",
       "    </tr>\n",
       "    <tr>\n",
       "      <th>2000-01-03</th>\n",
       "      <td>USW00023230</td>\n",
       "      <td>OAKLAND INTERNATIONAL AIRPORT, CA US</td>\n",
       "      <td>3.80</td>\n",
       "      <td>904.0</td>\n",
       "      <td>856.0</td>\n",
       "      <td>0.00</td>\n",
       "      <td>NaN</td>\n",
       "      <td>NaN</td>\n",
       "      <td>44.0</td>\n",
       "      <td>55.0</td>\n",
       "      <td>...</td>\n",
       "      <td>130.0</td>\n",
       "      <td>130.0</td>\n",
       "      <td>8.9</td>\n",
       "      <td>12.1</td>\n",
       "      <td>NaN</td>\n",
       "      <td>NaN</td>\n",
       "      <td>NaN</td>\n",
       "      <td>NaN</td>\n",
       "      <td>NaN</td>\n",
       "      <td>NaN</td>\n",
       "    </tr>\n",
       "    <tr>\n",
       "      <th>2000-01-04</th>\n",
       "      <td>USW00023230</td>\n",
       "      <td>OAKLAND INTERNATIONAL AIRPORT, CA US</td>\n",
       "      <td>3.80</td>\n",
       "      <td>1116.0</td>\n",
       "      <td>1115.0</td>\n",
       "      <td>0.01</td>\n",
       "      <td>NaN</td>\n",
       "      <td>NaN</td>\n",
       "      <td>45.0</td>\n",
       "      <td>54.0</td>\n",
       "      <td>...</td>\n",
       "      <td>150.0</td>\n",
       "      <td>150.0</td>\n",
       "      <td>12.1</td>\n",
       "      <td>13.0</td>\n",
       "      <td>NaN</td>\n",
       "      <td>NaN</td>\n",
       "      <td>NaN</td>\n",
       "      <td>NaN</td>\n",
       "      <td>NaN</td>\n",
       "      <td>NaN</td>\n",
       "    </tr>\n",
       "    <tr>\n",
       "      <th>2000-01-05</th>\n",
       "      <td>USW00023230</td>\n",
       "      <td>OAKLAND INTERNATIONAL AIRPORT, CA US</td>\n",
       "      <td>6.04</td>\n",
       "      <td>1302.0</td>\n",
       "      <td>1232.0</td>\n",
       "      <td>0.00</td>\n",
       "      <td>NaN</td>\n",
       "      <td>NaN</td>\n",
       "      <td>48.0</td>\n",
       "      <td>59.0</td>\n",
       "      <td>...</td>\n",
       "      <td>300.0</td>\n",
       "      <td>310.0</td>\n",
       "      <td>15.0</td>\n",
       "      <td>17.0</td>\n",
       "      <td>NaN</td>\n",
       "      <td>NaN</td>\n",
       "      <td>NaN</td>\n",
       "      <td>NaN</td>\n",
       "      <td>NaN</td>\n",
       "      <td>NaN</td>\n",
       "    </tr>\n",
       "    <tr>\n",
       "      <th>...</th>\n",
       "      <td>...</td>\n",
       "      <td>...</td>\n",
       "      <td>...</td>\n",
       "      <td>...</td>\n",
       "      <td>...</td>\n",
       "      <td>...</td>\n",
       "      <td>...</td>\n",
       "      <td>...</td>\n",
       "      <td>...</td>\n",
       "      <td>...</td>\n",
       "      <td>...</td>\n",
       "      <td>...</td>\n",
       "      <td>...</td>\n",
       "      <td>...</td>\n",
       "      <td>...</td>\n",
       "      <td>...</td>\n",
       "      <td>...</td>\n",
       "      <td>...</td>\n",
       "      <td>...</td>\n",
       "      <td>...</td>\n",
       "      <td>...</td>\n",
       "    </tr>\n",
       "    <tr>\n",
       "      <th>2023-04-18</th>\n",
       "      <td>USW00023230</td>\n",
       "      <td>OAKLAND INTERNATIONAL AIRPORT, CA US</td>\n",
       "      <td>11.41</td>\n",
       "      <td>NaN</td>\n",
       "      <td>NaN</td>\n",
       "      <td>0.00</td>\n",
       "      <td>NaN</td>\n",
       "      <td>NaN</td>\n",
       "      <td>NaN</td>\n",
       "      <td>59.0</td>\n",
       "      <td>...</td>\n",
       "      <td>290.0</td>\n",
       "      <td>310.0</td>\n",
       "      <td>25.9</td>\n",
       "      <td>40.9</td>\n",
       "      <td>NaN</td>\n",
       "      <td>NaN</td>\n",
       "      <td>NaN</td>\n",
       "      <td>NaN</td>\n",
       "      <td>NaN</td>\n",
       "      <td>NaN</td>\n",
       "    </tr>\n",
       "    <tr>\n",
       "      <th>2023-04-19</th>\n",
       "      <td>USW00023230</td>\n",
       "      <td>OAKLAND INTERNATIONAL AIRPORT, CA US</td>\n",
       "      <td>10.07</td>\n",
       "      <td>NaN</td>\n",
       "      <td>NaN</td>\n",
       "      <td>0.00</td>\n",
       "      <td>NaN</td>\n",
       "      <td>NaN</td>\n",
       "      <td>NaN</td>\n",
       "      <td>62.0</td>\n",
       "      <td>...</td>\n",
       "      <td>290.0</td>\n",
       "      <td>280.0</td>\n",
       "      <td>25.9</td>\n",
       "      <td>38.0</td>\n",
       "      <td>NaN</td>\n",
       "      <td>NaN</td>\n",
       "      <td>NaN</td>\n",
       "      <td>NaN</td>\n",
       "      <td>NaN</td>\n",
       "      <td>NaN</td>\n",
       "    </tr>\n",
       "    <tr>\n",
       "      <th>2023-04-20</th>\n",
       "      <td>USW00023230</td>\n",
       "      <td>OAKLAND INTERNATIONAL AIRPORT, CA US</td>\n",
       "      <td>6.93</td>\n",
       "      <td>NaN</td>\n",
       "      <td>NaN</td>\n",
       "      <td>0.00</td>\n",
       "      <td>NaN</td>\n",
       "      <td>NaN</td>\n",
       "      <td>NaN</td>\n",
       "      <td>65.0</td>\n",
       "      <td>...</td>\n",
       "      <td>270.0</td>\n",
       "      <td>260.0</td>\n",
       "      <td>18.1</td>\n",
       "      <td>25.1</td>\n",
       "      <td>NaN</td>\n",
       "      <td>NaN</td>\n",
       "      <td>NaN</td>\n",
       "      <td>NaN</td>\n",
       "      <td>NaN</td>\n",
       "      <td>NaN</td>\n",
       "    </tr>\n",
       "    <tr>\n",
       "      <th>2023-04-21</th>\n",
       "      <td>USW00023230</td>\n",
       "      <td>OAKLAND INTERNATIONAL AIRPORT, CA US</td>\n",
       "      <td>6.49</td>\n",
       "      <td>NaN</td>\n",
       "      <td>NaN</td>\n",
       "      <td>0.00</td>\n",
       "      <td>NaN</td>\n",
       "      <td>NaN</td>\n",
       "      <td>NaN</td>\n",
       "      <td>72.0</td>\n",
       "      <td>...</td>\n",
       "      <td>280.0</td>\n",
       "      <td>300.0</td>\n",
       "      <td>19.9</td>\n",
       "      <td>31.1</td>\n",
       "      <td>NaN</td>\n",
       "      <td>NaN</td>\n",
       "      <td>NaN</td>\n",
       "      <td>NaN</td>\n",
       "      <td>NaN</td>\n",
       "      <td>NaN</td>\n",
       "    </tr>\n",
       "    <tr>\n",
       "      <th>2023-04-22</th>\n",
       "      <td>USW00023230</td>\n",
       "      <td>OAKLAND INTERNATIONAL AIRPORT, CA US</td>\n",
       "      <td>5.82</td>\n",
       "      <td>NaN</td>\n",
       "      <td>1758.0</td>\n",
       "      <td>0.00</td>\n",
       "      <td>NaN</td>\n",
       "      <td>NaN</td>\n",
       "      <td>NaN</td>\n",
       "      <td>68.0</td>\n",
       "      <td>...</td>\n",
       "      <td>280.0</td>\n",
       "      <td>300.0</td>\n",
       "      <td>18.1</td>\n",
       "      <td>29.1</td>\n",
       "      <td>NaN</td>\n",
       "      <td>NaN</td>\n",
       "      <td>NaN</td>\n",
       "      <td>NaN</td>\n",
       "      <td>NaN</td>\n",
       "      <td>NaN</td>\n",
       "    </tr>\n",
       "  </tbody>\n",
       "</table>\n",
       "<p>8511 rows × 22 columns</p>\n",
       "</div>"
      ],
      "text/plain": [
       "                STATION                                  NAME   AWND    FMTM   \n",
       "DATE                                                                           \n",
       "2000-01-01  USW00023230  OAKLAND INTERNATIONAL AIRPORT, CA US   8.50  1643.0  \\\n",
       "2000-01-02  USW00023230  OAKLAND INTERNATIONAL AIRPORT, CA US   5.37  1743.0   \n",
       "2000-01-03  USW00023230  OAKLAND INTERNATIONAL AIRPORT, CA US   3.80   904.0   \n",
       "2000-01-04  USW00023230  OAKLAND INTERNATIONAL AIRPORT, CA US   3.80  1116.0   \n",
       "2000-01-05  USW00023230  OAKLAND INTERNATIONAL AIRPORT, CA US   6.04  1302.0   \n",
       "...                 ...                                   ...    ...     ...   \n",
       "2023-04-18  USW00023230  OAKLAND INTERNATIONAL AIRPORT, CA US  11.41     NaN   \n",
       "2023-04-19  USW00023230  OAKLAND INTERNATIONAL AIRPORT, CA US  10.07     NaN   \n",
       "2023-04-20  USW00023230  OAKLAND INTERNATIONAL AIRPORT, CA US   6.93     NaN   \n",
       "2023-04-21  USW00023230  OAKLAND INTERNATIONAL AIRPORT, CA US   6.49     NaN   \n",
       "2023-04-22  USW00023230  OAKLAND INTERNATIONAL AIRPORT, CA US   5.82     NaN   \n",
       "\n",
       "              PGTM  PRCP  SNOW  SNWD  TAVG  TMAX  ...   WDF2   WDF5  WSF2   \n",
       "DATE                                              ...                       \n",
       "2000-01-01  1638.0  0.00   NaN   NaN  48.0  54.0  ...  290.0  290.0  23.9  \\\n",
       "2000-01-02  1743.0  0.00   NaN   NaN  44.0  54.0  ...  310.0  310.0  16.1   \n",
       "2000-01-03   856.0  0.00   NaN   NaN  44.0  55.0  ...  130.0  130.0   8.9   \n",
       "2000-01-04  1115.0  0.01   NaN   NaN  45.0  54.0  ...  150.0  150.0  12.1   \n",
       "2000-01-05  1232.0  0.00   NaN   NaN  48.0  59.0  ...  300.0  310.0  15.0   \n",
       "...            ...   ...   ...   ...   ...   ...  ...    ...    ...   ...   \n",
       "2023-04-18     NaN  0.00   NaN   NaN   NaN  59.0  ...  290.0  310.0  25.9   \n",
       "2023-04-19     NaN  0.00   NaN   NaN   NaN  62.0  ...  290.0  280.0  25.9   \n",
       "2023-04-20     NaN  0.00   NaN   NaN   NaN  65.0  ...  270.0  260.0  18.1   \n",
       "2023-04-21     NaN  0.00   NaN   NaN   NaN  72.0  ...  280.0  300.0  19.9   \n",
       "2023-04-22  1758.0  0.00   NaN   NaN   NaN  68.0  ...  280.0  300.0  18.1   \n",
       "\n",
       "            WSF5  WT01  WT02  WT03  WT05  WT08  WT09  \n",
       "DATE                                                  \n",
       "2000-01-01  29.1   NaN   NaN   NaN   NaN   NaN   NaN  \n",
       "2000-01-02  19.9   NaN   NaN   NaN   NaN   NaN   NaN  \n",
       "2000-01-03  12.1   NaN   NaN   NaN   NaN   NaN   NaN  \n",
       "2000-01-04  13.0   NaN   NaN   NaN   NaN   NaN   NaN  \n",
       "2000-01-05  17.0   NaN   NaN   NaN   NaN   NaN   NaN  \n",
       "...          ...   ...   ...   ...   ...   ...   ...  \n",
       "2023-04-18  40.9   NaN   NaN   NaN   NaN   NaN   NaN  \n",
       "2023-04-19  38.0   NaN   NaN   NaN   NaN   NaN   NaN  \n",
       "2023-04-20  25.1   NaN   NaN   NaN   NaN   NaN   NaN  \n",
       "2023-04-21  31.1   NaN   NaN   NaN   NaN   NaN   NaN  \n",
       "2023-04-22  29.1   NaN   NaN   NaN   NaN   NaN   NaN  \n",
       "\n",
       "[8511 rows x 22 columns]"
      ]
     },
     "execution_count": 5,
     "metadata": {},
     "output_type": "execute_result"
    }
   ],
   "source": [
    "weather\n"
   ]
  },
  {
   "cell_type": "code",
   "execution_count": 6,
   "id": "8cc3e91f",
   "metadata": {},
   "outputs": [
    {
     "data": {
      "text/plain": [
       "STATION    0.000000\n",
       "NAME       0.000000\n",
       "AWND       0.001057\n",
       "FMTM       0.742686\n",
       "PGTM       0.500881\n",
       "PRCP       0.001762\n",
       "SNOW       0.668077\n",
       "SNWD       0.653390\n",
       "TAVG       0.760663\n",
       "TMAX       0.001292\n",
       "TMIN       0.001645\n",
       "TSUN       0.864763\n",
       "WDF2       0.000940\n",
       "WDF5       0.011280\n",
       "WSF2       0.000822\n",
       "WSF5       0.011280\n",
       "WT01       0.714840\n",
       "WT02       0.980143\n",
       "WT03       0.992128\n",
       "WT05       0.999530\n",
       "WT08       0.856069\n",
       "WT09       0.999883\n",
       "dtype: float64"
      ]
     },
     "execution_count": 6,
     "metadata": {},
     "output_type": "execute_result"
    }
   ],
   "source": [
    "weather.apply(pd.isnull).sum()/weather.shape[0]"
   ]
  },
  {
   "cell_type": "code",
   "execution_count": 7,
   "id": "f224589c",
   "metadata": {},
   "outputs": [],
   "source": [
    "core_weather = weather[[\"PRCP\", \"SNOW\", \"SNWD\", \"TMAX\", \"TMIN\"]].copy()\n",
    "core_weather.columns = [\"precip\", \"snow\", \"snow_depth\", \"temp_max\", \"temp_min\"]\n"
   ]
  },
  {
   "cell_type": "code",
   "execution_count": 8,
   "id": "a8a107f1",
   "metadata": {},
   "outputs": [
    {
     "data": {
      "text/plain": [
       "precip          15\n",
       "snow          5686\n",
       "snow_depth    5561\n",
       "temp_max        11\n",
       "temp_min        14\n",
       "dtype: int64"
      ]
     },
     "execution_count": 8,
     "metadata": {},
     "output_type": "execute_result"
    }
   ],
   "source": [
    "core_weather.apply(pd.isnull).sum()"
   ]
  },
  {
   "cell_type": "code",
   "execution_count": 9,
   "id": "1c2e9ba9",
   "metadata": {},
   "outputs": [
    {
     "data": {
      "text/plain": [
       "snow\n",
       "0.0    2825\n",
       "Name: count, dtype: int64"
      ]
     },
     "execution_count": 9,
     "metadata": {},
     "output_type": "execute_result"
    }
   ],
   "source": [
    "core_weather[\"snow\"].value_counts()"
   ]
  },
  {
   "cell_type": "code",
   "execution_count": 10,
   "id": "ab7b915c",
   "metadata": {},
   "outputs": [
    {
     "data": {
      "text/plain": [
       "snow_depth\n",
       "0.0    2950\n",
       "Name: count, dtype: int64"
      ]
     },
     "execution_count": 10,
     "metadata": {},
     "output_type": "execute_result"
    }
   ],
   "source": [
    "core_weather[\"snow_depth\"].value_counts()"
   ]
  },
  {
   "cell_type": "code",
   "execution_count": 11,
   "id": "a15c19a1",
   "metadata": {},
   "outputs": [],
   "source": [
    "del core_weather[\"snow\"]"
   ]
  },
  {
   "cell_type": "code",
   "execution_count": 12,
   "id": "48a1d3b4",
   "metadata": {},
   "outputs": [],
   "source": [
    "del core_weather[\"snow_depth\"]"
   ]
  },
  {
   "cell_type": "code",
   "execution_count": 13,
   "id": "7af5cc49",
   "metadata": {},
   "outputs": [
    {
     "data": {
      "text/html": [
       "<div>\n",
       "<style scoped>\n",
       "    .dataframe tbody tr th:only-of-type {\n",
       "        vertical-align: middle;\n",
       "    }\n",
       "\n",
       "    .dataframe tbody tr th {\n",
       "        vertical-align: top;\n",
       "    }\n",
       "\n",
       "    .dataframe thead th {\n",
       "        text-align: right;\n",
       "    }\n",
       "</style>\n",
       "<table border=\"1\" class=\"dataframe\">\n",
       "  <thead>\n",
       "    <tr style=\"text-align: right;\">\n",
       "      <th></th>\n",
       "      <th>precip</th>\n",
       "      <th>temp_max</th>\n",
       "      <th>temp_min</th>\n",
       "    </tr>\n",
       "    <tr>\n",
       "      <th>DATE</th>\n",
       "      <th></th>\n",
       "      <th></th>\n",
       "      <th></th>\n",
       "    </tr>\n",
       "  </thead>\n",
       "  <tbody>\n",
       "    <tr>\n",
       "      <th>2000-09-07</th>\n",
       "      <td>NaN</td>\n",
       "      <td>86.0</td>\n",
       "      <td>51.0</td>\n",
       "    </tr>\n",
       "    <tr>\n",
       "      <th>2000-10-17</th>\n",
       "      <td>NaN</td>\n",
       "      <td>70.0</td>\n",
       "      <td>47.0</td>\n",
       "    </tr>\n",
       "    <tr>\n",
       "      <th>2001-03-20</th>\n",
       "      <td>NaN</td>\n",
       "      <td>76.0</td>\n",
       "      <td>54.0</td>\n",
       "    </tr>\n",
       "    <tr>\n",
       "      <th>2002-05-24</th>\n",
       "      <td>NaN</td>\n",
       "      <td>79.0</td>\n",
       "      <td>50.0</td>\n",
       "    </tr>\n",
       "    <tr>\n",
       "      <th>2002-10-28</th>\n",
       "      <td>NaN</td>\n",
       "      <td>71.0</td>\n",
       "      <td>42.0</td>\n",
       "    </tr>\n",
       "    <tr>\n",
       "      <th>2004-01-07</th>\n",
       "      <td>NaN</td>\n",
       "      <td>59.0</td>\n",
       "      <td>47.0</td>\n",
       "    </tr>\n",
       "    <tr>\n",
       "      <th>2004-11-20</th>\n",
       "      <td>NaN</td>\n",
       "      <td>NaN</td>\n",
       "      <td>NaN</td>\n",
       "    </tr>\n",
       "    <tr>\n",
       "      <th>2006-07-03</th>\n",
       "      <td>NaN</td>\n",
       "      <td>65.0</td>\n",
       "      <td>54.0</td>\n",
       "    </tr>\n",
       "    <tr>\n",
       "      <th>2009-12-14</th>\n",
       "      <td>NaN</td>\n",
       "      <td>56.0</td>\n",
       "      <td>46.0</td>\n",
       "    </tr>\n",
       "    <tr>\n",
       "      <th>2013-12-15</th>\n",
       "      <td>NaN</td>\n",
       "      <td>58.0</td>\n",
       "      <td>33.0</td>\n",
       "    </tr>\n",
       "    <tr>\n",
       "      <th>2016-05-01</th>\n",
       "      <td>NaN</td>\n",
       "      <td>80.0</td>\n",
       "      <td>55.0</td>\n",
       "    </tr>\n",
       "    <tr>\n",
       "      <th>2016-05-02</th>\n",
       "      <td>NaN</td>\n",
       "      <td>68.0</td>\n",
       "      <td>53.0</td>\n",
       "    </tr>\n",
       "    <tr>\n",
       "      <th>2016-05-08</th>\n",
       "      <td>NaN</td>\n",
       "      <td>67.0</td>\n",
       "      <td>56.0</td>\n",
       "    </tr>\n",
       "    <tr>\n",
       "      <th>2017-10-28</th>\n",
       "      <td>NaN</td>\n",
       "      <td>68.0</td>\n",
       "      <td>50.0</td>\n",
       "    </tr>\n",
       "    <tr>\n",
       "      <th>2023-03-29</th>\n",
       "      <td>NaN</td>\n",
       "      <td>52.0</td>\n",
       "      <td>43.0</td>\n",
       "    </tr>\n",
       "  </tbody>\n",
       "</table>\n",
       "</div>"
      ],
      "text/plain": [
       "            precip  temp_max  temp_min\n",
       "DATE                                  \n",
       "2000-09-07     NaN      86.0      51.0\n",
       "2000-10-17     NaN      70.0      47.0\n",
       "2001-03-20     NaN      76.0      54.0\n",
       "2002-05-24     NaN      79.0      50.0\n",
       "2002-10-28     NaN      71.0      42.0\n",
       "2004-01-07     NaN      59.0      47.0\n",
       "2004-11-20     NaN       NaN       NaN\n",
       "2006-07-03     NaN      65.0      54.0\n",
       "2009-12-14     NaN      56.0      46.0\n",
       "2013-12-15     NaN      58.0      33.0\n",
       "2016-05-01     NaN      80.0      55.0\n",
       "2016-05-02     NaN      68.0      53.0\n",
       "2016-05-08     NaN      67.0      56.0\n",
       "2017-10-28     NaN      68.0      50.0\n",
       "2023-03-29     NaN      52.0      43.0"
      ]
     },
     "execution_count": 13,
     "metadata": {},
     "output_type": "execute_result"
    }
   ],
   "source": [
    "core_weather[pd.isnull(core_weather[\"precip\"])]"
   ]
  },
  {
   "cell_type": "code",
   "execution_count": 14,
   "id": "0eb543be",
   "metadata": {},
   "outputs": [
    {
     "data": {
      "text/plain": [
       "precip       NaN\n",
       "temp_max    58.0\n",
       "temp_min    33.0\n",
       "Name: 2013-12-15, dtype: float64"
      ]
     },
     "execution_count": 14,
     "metadata": {},
     "output_type": "execute_result"
    }
   ],
   "source": [
    "core_weather.loc[\"2013-12-15\",:]"
   ]
  },
  {
   "cell_type": "code",
   "execution_count": 15,
   "id": "0b51d5b0",
   "metadata": {},
   "outputs": [
    {
     "data": {
      "text/plain": [
       "precip\n",
       "0.00    0.814945\n",
       "0.01    0.033839\n",
       "0.02    0.012337\n",
       "0.03    0.006345\n",
       "0.04    0.006110\n",
       "          ...   \n",
       "1.25    0.000117\n",
       "1.11    0.000117\n",
       "2.37    0.000117\n",
       "1.68    0.000117\n",
       "1.28    0.000117\n",
       "Name: count, Length: 150, dtype: float64"
      ]
     },
     "execution_count": 15,
     "metadata": {},
     "output_type": "execute_result"
    }
   ],
   "source": [
    "core_weather[\"precip\"].value_counts() / core_weather.shape[0]"
   ]
  },
  {
   "cell_type": "code",
   "execution_count": 16,
   "id": "cc94b856",
   "metadata": {},
   "outputs": [],
   "source": [
    "core_weather[\"precip\"] = core_weather[\"precip\"].fillna(0)"
   ]
  },
  {
   "cell_type": "code",
   "execution_count": 17,
   "id": "e9dca263",
   "metadata": {},
   "outputs": [
    {
     "data": {
      "text/plain": [
       "precip       0\n",
       "temp_max    11\n",
       "temp_min    14\n",
       "dtype: int64"
      ]
     },
     "execution_count": 17,
     "metadata": {},
     "output_type": "execute_result"
    }
   ],
   "source": [
    "core_weather.apply(pd.isnull).sum()"
   ]
  },
  {
   "cell_type": "code",
   "execution_count": 18,
   "id": "63fb369e",
   "metadata": {},
   "outputs": [
    {
     "data": {
      "text/html": [
       "<div>\n",
       "<style scoped>\n",
       "    .dataframe tbody tr th:only-of-type {\n",
       "        vertical-align: middle;\n",
       "    }\n",
       "\n",
       "    .dataframe tbody tr th {\n",
       "        vertical-align: top;\n",
       "    }\n",
       "\n",
       "    .dataframe thead th {\n",
       "        text-align: right;\n",
       "    }\n",
       "</style>\n",
       "<table border=\"1\" class=\"dataframe\">\n",
       "  <thead>\n",
       "    <tr style=\"text-align: right;\">\n",
       "      <th></th>\n",
       "      <th>precip</th>\n",
       "      <th>temp_max</th>\n",
       "      <th>temp_min</th>\n",
       "    </tr>\n",
       "    <tr>\n",
       "      <th>DATE</th>\n",
       "      <th></th>\n",
       "      <th></th>\n",
       "      <th></th>\n",
       "    </tr>\n",
       "  </thead>\n",
       "  <tbody>\n",
       "    <tr>\n",
       "      <th>2004-11-20</th>\n",
       "      <td>0.0</td>\n",
       "      <td>NaN</td>\n",
       "      <td>NaN</td>\n",
       "    </tr>\n",
       "    <tr>\n",
       "      <th>2011-12-21</th>\n",
       "      <td>0.0</td>\n",
       "      <td>61.0</td>\n",
       "      <td>NaN</td>\n",
       "    </tr>\n",
       "    <tr>\n",
       "      <th>2011-12-22</th>\n",
       "      <td>0.0</td>\n",
       "      <td>62.0</td>\n",
       "      <td>NaN</td>\n",
       "    </tr>\n",
       "    <tr>\n",
       "      <th>2011-12-23</th>\n",
       "      <td>0.0</td>\n",
       "      <td>56.0</td>\n",
       "      <td>NaN</td>\n",
       "    </tr>\n",
       "    <tr>\n",
       "      <th>2011-12-24</th>\n",
       "      <td>0.0</td>\n",
       "      <td>55.0</td>\n",
       "      <td>NaN</td>\n",
       "    </tr>\n",
       "    <tr>\n",
       "      <th>2011-12-25</th>\n",
       "      <td>0.0</td>\n",
       "      <td>54.0</td>\n",
       "      <td>NaN</td>\n",
       "    </tr>\n",
       "    <tr>\n",
       "      <th>2013-06-16</th>\n",
       "      <td>0.0</td>\n",
       "      <td>NaN</td>\n",
       "      <td>NaN</td>\n",
       "    </tr>\n",
       "    <tr>\n",
       "      <th>2020-08-29</th>\n",
       "      <td>0.0</td>\n",
       "      <td>NaN</td>\n",
       "      <td>NaN</td>\n",
       "    </tr>\n",
       "    <tr>\n",
       "      <th>2020-09-08</th>\n",
       "      <td>0.0</td>\n",
       "      <td>NaN</td>\n",
       "      <td>NaN</td>\n",
       "    </tr>\n",
       "    <tr>\n",
       "      <th>2020-09-09</th>\n",
       "      <td>0.0</td>\n",
       "      <td>NaN</td>\n",
       "      <td>NaN</td>\n",
       "    </tr>\n",
       "    <tr>\n",
       "      <th>2022-10-08</th>\n",
       "      <td>0.0</td>\n",
       "      <td>NaN</td>\n",
       "      <td>NaN</td>\n",
       "    </tr>\n",
       "    <tr>\n",
       "      <th>2022-10-09</th>\n",
       "      <td>0.0</td>\n",
       "      <td>NaN</td>\n",
       "      <td>NaN</td>\n",
       "    </tr>\n",
       "    <tr>\n",
       "      <th>2022-10-10</th>\n",
       "      <td>0.0</td>\n",
       "      <td>69.0</td>\n",
       "      <td>NaN</td>\n",
       "    </tr>\n",
       "    <tr>\n",
       "      <th>2022-10-11</th>\n",
       "      <td>0.0</td>\n",
       "      <td>66.0</td>\n",
       "      <td>NaN</td>\n",
       "    </tr>\n",
       "  </tbody>\n",
       "</table>\n",
       "</div>"
      ],
      "text/plain": [
       "            precip  temp_max  temp_min\n",
       "DATE                                  \n",
       "2004-11-20     0.0       NaN       NaN\n",
       "2011-12-21     0.0      61.0       NaN\n",
       "2011-12-22     0.0      62.0       NaN\n",
       "2011-12-23     0.0      56.0       NaN\n",
       "2011-12-24     0.0      55.0       NaN\n",
       "2011-12-25     0.0      54.0       NaN\n",
       "2013-06-16     0.0       NaN       NaN\n",
       "2020-08-29     0.0       NaN       NaN\n",
       "2020-09-08     0.0       NaN       NaN\n",
       "2020-09-09     0.0       NaN       NaN\n",
       "2022-10-08     0.0       NaN       NaN\n",
       "2022-10-09     0.0       NaN       NaN\n",
       "2022-10-10     0.0      69.0       NaN\n",
       "2022-10-11     0.0      66.0       NaN"
      ]
     },
     "execution_count": 18,
     "metadata": {},
     "output_type": "execute_result"
    }
   ],
   "source": [
    "core_weather[pd.isnull(core_weather[\"temp_min\"])]"
   ]
  },
  {
   "cell_type": "code",
   "execution_count": 19,
   "id": "ea5529e7",
   "metadata": {},
   "outputs": [
    {
     "data": {
      "text/html": [
       "<div>\n",
       "<style scoped>\n",
       "    .dataframe tbody tr th:only-of-type {\n",
       "        vertical-align: middle;\n",
       "    }\n",
       "\n",
       "    .dataframe tbody tr th {\n",
       "        vertical-align: top;\n",
       "    }\n",
       "\n",
       "    .dataframe thead th {\n",
       "        text-align: right;\n",
       "    }\n",
       "</style>\n",
       "<table border=\"1\" class=\"dataframe\">\n",
       "  <thead>\n",
       "    <tr style=\"text-align: right;\">\n",
       "      <th></th>\n",
       "      <th>precip</th>\n",
       "      <th>temp_max</th>\n",
       "      <th>temp_min</th>\n",
       "    </tr>\n",
       "    <tr>\n",
       "      <th>DATE</th>\n",
       "      <th></th>\n",
       "      <th></th>\n",
       "      <th></th>\n",
       "    </tr>\n",
       "  </thead>\n",
       "  <tbody>\n",
       "    <tr>\n",
       "      <th>2011-12-18</th>\n",
       "      <td>0.0</td>\n",
       "      <td>52.0</td>\n",
       "      <td>33.0</td>\n",
       "    </tr>\n",
       "    <tr>\n",
       "      <th>2011-12-19</th>\n",
       "      <td>0.0</td>\n",
       "      <td>55.0</td>\n",
       "      <td>35.0</td>\n",
       "    </tr>\n",
       "    <tr>\n",
       "      <th>2011-12-20</th>\n",
       "      <td>0.0</td>\n",
       "      <td>61.0</td>\n",
       "      <td>35.0</td>\n",
       "    </tr>\n",
       "    <tr>\n",
       "      <th>2011-12-21</th>\n",
       "      <td>0.0</td>\n",
       "      <td>61.0</td>\n",
       "      <td>NaN</td>\n",
       "    </tr>\n",
       "    <tr>\n",
       "      <th>2011-12-22</th>\n",
       "      <td>0.0</td>\n",
       "      <td>62.0</td>\n",
       "      <td>NaN</td>\n",
       "    </tr>\n",
       "    <tr>\n",
       "      <th>2011-12-23</th>\n",
       "      <td>0.0</td>\n",
       "      <td>56.0</td>\n",
       "      <td>NaN</td>\n",
       "    </tr>\n",
       "    <tr>\n",
       "      <th>2011-12-24</th>\n",
       "      <td>0.0</td>\n",
       "      <td>55.0</td>\n",
       "      <td>NaN</td>\n",
       "    </tr>\n",
       "    <tr>\n",
       "      <th>2011-12-25</th>\n",
       "      <td>0.0</td>\n",
       "      <td>54.0</td>\n",
       "      <td>NaN</td>\n",
       "    </tr>\n",
       "    <tr>\n",
       "      <th>2011-12-26</th>\n",
       "      <td>0.0</td>\n",
       "      <td>50.0</td>\n",
       "      <td>32.0</td>\n",
       "    </tr>\n",
       "    <tr>\n",
       "      <th>2011-12-27</th>\n",
       "      <td>0.0</td>\n",
       "      <td>56.0</td>\n",
       "      <td>39.0</td>\n",
       "    </tr>\n",
       "    <tr>\n",
       "      <th>2011-12-28</th>\n",
       "      <td>0.0</td>\n",
       "      <td>57.0</td>\n",
       "      <td>38.0</td>\n",
       "    </tr>\n",
       "  </tbody>\n",
       "</table>\n",
       "</div>"
      ],
      "text/plain": [
       "            precip  temp_max  temp_min\n",
       "DATE                                  \n",
       "2011-12-18     0.0      52.0      33.0\n",
       "2011-12-19     0.0      55.0      35.0\n",
       "2011-12-20     0.0      61.0      35.0\n",
       "2011-12-21     0.0      61.0       NaN\n",
       "2011-12-22     0.0      62.0       NaN\n",
       "2011-12-23     0.0      56.0       NaN\n",
       "2011-12-24     0.0      55.0       NaN\n",
       "2011-12-25     0.0      54.0       NaN\n",
       "2011-12-26     0.0      50.0      32.0\n",
       "2011-12-27     0.0      56.0      39.0\n",
       "2011-12-28     0.0      57.0      38.0"
      ]
     },
     "execution_count": 19,
     "metadata": {},
     "output_type": "execute_result"
    }
   ],
   "source": [
    "core_weather.loc[\"2011-12-18\":\"2011-12-28\"]"
   ]
  },
  {
   "cell_type": "code",
   "execution_count": 20,
   "id": "3ac18fd3",
   "metadata": {},
   "outputs": [],
   "source": [
    "core_weather = core_weather.fillna(method=\"ffill\")"
   ]
  },
  {
   "cell_type": "code",
   "execution_count": 21,
   "id": "48a00064",
   "metadata": {},
   "outputs": [
    {
     "data": {
      "text/plain": [
       "precip      0\n",
       "temp_max    0\n",
       "temp_min    0\n",
       "dtype: int64"
      ]
     },
     "execution_count": 21,
     "metadata": {},
     "output_type": "execute_result"
    }
   ],
   "source": [
    "core_weather.apply(pd.isnull).sum()"
   ]
  },
  {
   "cell_type": "code",
   "execution_count": 22,
   "id": "e109a568",
   "metadata": {},
   "outputs": [
    {
     "data": {
      "text/plain": [
       "precip      0\n",
       "temp_max    0\n",
       "temp_min    0\n",
       "dtype: int64"
      ]
     },
     "execution_count": 22,
     "metadata": {},
     "output_type": "execute_result"
    }
   ],
   "source": [
    "# Check for missing value defined in data documentation\n",
    "core_weather.apply(lambda x: (x == 9999).sum())"
   ]
  },
  {
   "cell_type": "code",
   "execution_count": 23,
   "id": "e8a1709d",
   "metadata": {},
   "outputs": [
    {
     "data": {
      "text/plain": [
       "precip      float64\n",
       "temp_max    float64\n",
       "temp_min    float64\n",
       "dtype: object"
      ]
     },
     "execution_count": 23,
     "metadata": {},
     "output_type": "execute_result"
    }
   ],
   "source": [
    "core_weather.dtypes"
   ]
  },
  {
   "cell_type": "code",
   "execution_count": 24,
   "id": "4d6a903e",
   "metadata": {},
   "outputs": [
    {
     "data": {
      "text/plain": [
       "Index(['2000-01-01', '2000-01-02', '2000-01-03', '2000-01-04', '2000-01-05',\n",
       "       '2000-01-06', '2000-01-07', '2000-01-08', '2000-01-09', '2000-01-10',\n",
       "       ...\n",
       "       '2023-04-13', '2023-04-14', '2023-04-15', '2023-04-16', '2023-04-17',\n",
       "       '2023-04-18', '2023-04-19', '2023-04-20', '2023-04-21', '2023-04-22'],\n",
       "      dtype='object', name='DATE', length=8511)"
      ]
     },
     "execution_count": 24,
     "metadata": {},
     "output_type": "execute_result"
    }
   ],
   "source": [
    "core_weather.index"
   ]
  },
  {
   "cell_type": "code",
   "execution_count": 25,
   "id": "b76d0074",
   "metadata": {},
   "outputs": [],
   "source": [
    "core_weather.index = pd.to_datetime(core_weather.index)"
   ]
  },
  {
   "cell_type": "code",
   "execution_count": 26,
   "id": "aa109a72",
   "metadata": {},
   "outputs": [
    {
     "data": {
      "text/plain": [
       "DatetimeIndex(['2000-01-01', '2000-01-02', '2000-01-03', '2000-01-04',\n",
       "               '2000-01-05', '2000-01-06', '2000-01-07', '2000-01-08',\n",
       "               '2000-01-09', '2000-01-10',\n",
       "               ...\n",
       "               '2023-04-13', '2023-04-14', '2023-04-15', '2023-04-16',\n",
       "               '2023-04-17', '2023-04-18', '2023-04-19', '2023-04-20',\n",
       "               '2023-04-21', '2023-04-22'],\n",
       "              dtype='datetime64[ns]', name='DATE', length=8511, freq=None)"
      ]
     },
     "execution_count": 26,
     "metadata": {},
     "output_type": "execute_result"
    }
   ],
   "source": [
    "core_weather.index"
   ]
  },
  {
   "cell_type": "code",
   "execution_count": 27,
   "id": "7f1a73b4",
   "metadata": {},
   "outputs": [
    {
     "data": {
      "text/plain": [
       "Index([2000, 2000, 2000, 2000, 2000, 2000, 2000, 2000, 2000, 2000,\n",
       "       ...\n",
       "       2023, 2023, 2023, 2023, 2023, 2023, 2023, 2023, 2023, 2023],\n",
       "      dtype='int32', name='DATE', length=8511)"
      ]
     },
     "execution_count": 27,
     "metadata": {},
     "output_type": "execute_result"
    }
   ],
   "source": [
    "core_weather.index.year"
   ]
  },
  {
   "cell_type": "code",
   "execution_count": 28,
   "id": "61c3e27e",
   "metadata": {},
   "outputs": [
    {
     "data": {
      "text/plain": [
       "<Axes: xlabel='DATE'>"
      ]
     },
     "execution_count": 28,
     "metadata": {},
     "output_type": "execute_result"
    },
    {
     "data": {
      "image/png": "[encoded data removed]",
      "text/plain": [
       "<Figure size 640x480 with 1 Axes>"
      ]
     },
     "metadata": {},
     "output_type": "display_data"
    }
   ],
   "source": [
    "core_weather[[\"temp_max\", \"temp_min\"]].plot()"
   ]
  },
  {
   "cell_type": "code",
   "execution_count": 29,
   "id": "63737307",
   "metadata": {},
   "outputs": [
    {
     "data": {
      "text/plain": [
       "DATE\n",
       "2000    365\n",
       "2001    365\n",
       "2002    365\n",
       "2003    365\n",
       "2004    366\n",
       "2005    365\n",
       "2006    365\n",
       "2007    365\n",
       "2008    366\n",
       "2009    365\n",
       "2010    365\n",
       "2011    365\n",
       "2012    365\n",
       "2013    365\n",
       "2014    365\n",
       "2015    365\n",
       "2016    366\n",
       "2017    365\n",
       "2018    365\n",
       "2019    365\n",
       "2020    366\n",
       "2021    365\n",
       "2022    365\n",
       "2023    112\n",
       "Name: count, dtype: int64"
      ]
     },
     "execution_count": 29,
     "metadata": {},
     "output_type": "execute_result"
    }
   ],
   "source": [
    "core_weather.index.year.value_counts().sort_index()"
   ]
  },
  {
   "cell_type": "code",
   "execution_count": 30,
   "id": "a119fd49",
   "metadata": {},
   "outputs": [
    {
     "data": {
      "text/plain": [
       "<Axes: xlabel='DATE'>"
      ]
     },
     "execution_count": 30,
     "metadata": {},
     "output_type": "execute_result"
    },
    {
     "data": {
      "image/png": "[encoded data removed]",
      "text/plain": [
       "<Figure size 640x480 with 1 Axes>"
      ]
     },
     "metadata": {},
     "output_type": "display_data"
    }
   ],
   "source": [
    "core_weather[\"precip\"].plot()"
   ]
  },
  {
   "cell_type": "code",
   "execution_count": 31,
   "id": "5fca508a",
   "metadata": {},
   "outputs": [
    {
     "data": {
      "text/plain": [
       "<Axes: xlabel='DATE'>"
      ]
     },
     "execution_count": 31,
     "metadata": {},
     "output_type": "execute_result"
    },
    {
     "data": {
      "image/png": "[encoded data removed]",
      "text/plain": [
       "<Figure size 640x480 with 1 Axes>"
      ]
     },
     "metadata": {},
     "output_type": "display_data"
    }
   ],
   "source": [
    "core_weather.groupby(core_weather.index.year).apply(lambda x: x[\"precip\"].sum()).plot()"
   ]
  },
  {
   "cell_type": "code",
   "execution_count": 32,
   "id": "1a822106",
   "metadata": {},
   "outputs": [],
   "source": [
    "core_weather[\"target\"] = core_weather.shift(-1)[\"temp_max\"]"
   ]
  },
  {
   "cell_type": "code",
   "execution_count": 33,
   "id": "3637eae7",
   "metadata": {},
   "outputs": [
    {
     "data": {
      "text/html": [
       "<div>\n",
       "<style scoped>\n",
       "    .dataframe tbody tr th:only-of-type {\n",
       "        vertical-align: middle;\n",
       "    }\n",
       "\n",
       "    .dataframe tbody tr th {\n",
       "        vertical-align: top;\n",
       "    }\n",
       "\n",
       "    .dataframe thead th {\n",
       "        text-align: right;\n",
       "    }\n",
       "</style>\n",
       "<table border=\"1\" class=\"dataframe\">\n",
       "  <thead>\n",
       "    <tr style=\"text-align: right;\">\n",
       "      <th></th>\n",
       "      <th>precip</th>\n",
       "      <th>temp_max</th>\n",
       "      <th>temp_min</th>\n",
       "      <th>target</th>\n",
       "    </tr>\n",
       "    <tr>\n",
       "      <th>DATE</th>\n",
       "      <th></th>\n",
       "      <th></th>\n",
       "      <th></th>\n",
       "      <th></th>\n",
       "    </tr>\n",
       "  </thead>\n",
       "  <tbody>\n",
       "    <tr>\n",
       "      <th>2000-01-01</th>\n",
       "      <td>0.00</td>\n",
       "      <td>54.0</td>\n",
       "      <td>41.0</td>\n",
       "      <td>54.0</td>\n",
       "    </tr>\n",
       "    <tr>\n",
       "      <th>2000-01-02</th>\n",
       "      <td>0.00</td>\n",
       "      <td>54.0</td>\n",
       "      <td>34.0</td>\n",
       "      <td>55.0</td>\n",
       "    </tr>\n",
       "    <tr>\n",
       "      <th>2000-01-03</th>\n",
       "      <td>0.00</td>\n",
       "      <td>55.0</td>\n",
       "      <td>33.0</td>\n",
       "      <td>54.0</td>\n",
       "    </tr>\n",
       "    <tr>\n",
       "      <th>2000-01-04</th>\n",
       "      <td>0.01</td>\n",
       "      <td>54.0</td>\n",
       "      <td>35.0</td>\n",
       "      <td>59.0</td>\n",
       "    </tr>\n",
       "    <tr>\n",
       "      <th>2000-01-05</th>\n",
       "      <td>0.00</td>\n",
       "      <td>59.0</td>\n",
       "      <td>36.0</td>\n",
       "      <td>58.0</td>\n",
       "    </tr>\n",
       "    <tr>\n",
       "      <th>...</th>\n",
       "      <td>...</td>\n",
       "      <td>...</td>\n",
       "      <td>...</td>\n",
       "      <td>...</td>\n",
       "    </tr>\n",
       "    <tr>\n",
       "      <th>2023-04-18</th>\n",
       "      <td>0.00</td>\n",
       "      <td>59.0</td>\n",
       "      <td>46.0</td>\n",
       "      <td>62.0</td>\n",
       "    </tr>\n",
       "    <tr>\n",
       "      <th>2023-04-19</th>\n",
       "      <td>0.00</td>\n",
       "      <td>62.0</td>\n",
       "      <td>43.0</td>\n",
       "      <td>65.0</td>\n",
       "    </tr>\n",
       "    <tr>\n",
       "      <th>2023-04-20</th>\n",
       "      <td>0.00</td>\n",
       "      <td>65.0</td>\n",
       "      <td>42.0</td>\n",
       "      <td>72.0</td>\n",
       "    </tr>\n",
       "    <tr>\n",
       "      <th>2023-04-21</th>\n",
       "      <td>0.00</td>\n",
       "      <td>72.0</td>\n",
       "      <td>48.0</td>\n",
       "      <td>68.0</td>\n",
       "    </tr>\n",
       "    <tr>\n",
       "      <th>2023-04-22</th>\n",
       "      <td>0.00</td>\n",
       "      <td>68.0</td>\n",
       "      <td>50.0</td>\n",
       "      <td>NaN</td>\n",
       "    </tr>\n",
       "  </tbody>\n",
       "</table>\n",
       "<p>8511 rows × 4 columns</p>\n",
       "</div>"
      ],
      "text/plain": [
       "            precip  temp_max  temp_min  target\n",
       "DATE                                          \n",
       "2000-01-01    0.00      54.0      41.0    54.0\n",
       "2000-01-02    0.00      54.0      34.0    55.0\n",
       "2000-01-03    0.00      55.0      33.0    54.0\n",
       "2000-01-04    0.01      54.0      35.0    59.0\n",
       "2000-01-05    0.00      59.0      36.0    58.0\n",
       "...            ...       ...       ...     ...\n",
       "2023-04-18    0.00      59.0      46.0    62.0\n",
       "2023-04-19    0.00      62.0      43.0    65.0\n",
       "2023-04-20    0.00      65.0      42.0    72.0\n",
       "2023-04-21    0.00      72.0      48.0    68.0\n",
       "2023-04-22    0.00      68.0      50.0     NaN\n",
       "\n",
       "[8511 rows x 4 columns]"
      ]
     },
     "execution_count": 33,
     "metadata": {},
     "output_type": "execute_result"
    }
   ],
   "source": [
    "core_weather"
   ]
  },
  {
   "cell_type": "code",
   "execution_count": 34,
   "id": "2c154e76",
   "metadata": {},
   "outputs": [],
   "source": [
    "core_weather = core_weather.iloc[:-1,:].copy()"
   ]
  },
  {
   "cell_type": "code",
   "execution_count": 35,
   "id": "74e6b1f5",
   "metadata": {},
   "outputs": [
    {
     "data": {
      "text/html": [
       "<div>\n",
       "<style scoped>\n",
       "    .dataframe tbody tr th:only-of-type {\n",
       "        vertical-align: middle;\n",
       "    }\n",
       "\n",
       "    .dataframe tbody tr th {\n",
       "        vertical-align: top;\n",
       "    }\n",
       "\n",
       "    .dataframe thead th {\n",
       "        text-align: right;\n",
       "    }\n",
       "</style>\n",
       "<table border=\"1\" class=\"dataframe\">\n",
       "  <thead>\n",
       "    <tr style=\"text-align: right;\">\n",
       "      <th></th>\n",
       "      <th>precip</th>\n",
       "      <th>temp_max</th>\n",
       "      <th>temp_min</th>\n",
       "      <th>target</th>\n",
       "    </tr>\n",
       "    <tr>\n",
       "      <th>DATE</th>\n",
       "      <th></th>\n",
       "      <th></th>\n",
       "      <th></th>\n",
       "      <th></th>\n",
       "    </tr>\n",
       "  </thead>\n",
       "  <tbody>\n",
       "    <tr>\n",
       "      <th>2000-01-01</th>\n",
       "      <td>0.00</td>\n",
       "      <td>54.0</td>\n",
       "      <td>41.0</td>\n",
       "      <td>54.0</td>\n",
       "    </tr>\n",
       "    <tr>\n",
       "      <th>2000-01-02</th>\n",
       "      <td>0.00</td>\n",
       "      <td>54.0</td>\n",
       "      <td>34.0</td>\n",
       "      <td>55.0</td>\n",
       "    </tr>\n",
       "    <tr>\n",
       "      <th>2000-01-03</th>\n",
       "      <td>0.00</td>\n",
       "      <td>55.0</td>\n",
       "      <td>33.0</td>\n",
       "      <td>54.0</td>\n",
       "    </tr>\n",
       "    <tr>\n",
       "      <th>2000-01-04</th>\n",
       "      <td>0.01</td>\n",
       "      <td>54.0</td>\n",
       "      <td>35.0</td>\n",
       "      <td>59.0</td>\n",
       "    </tr>\n",
       "    <tr>\n",
       "      <th>2000-01-05</th>\n",
       "      <td>0.00</td>\n",
       "      <td>59.0</td>\n",
       "      <td>36.0</td>\n",
       "      <td>58.0</td>\n",
       "    </tr>\n",
       "    <tr>\n",
       "      <th>...</th>\n",
       "      <td>...</td>\n",
       "      <td>...</td>\n",
       "      <td>...</td>\n",
       "      <td>...</td>\n",
       "    </tr>\n",
       "    <tr>\n",
       "      <th>2023-04-17</th>\n",
       "      <td>0.00</td>\n",
       "      <td>59.0</td>\n",
       "      <td>50.0</td>\n",
       "      <td>59.0</td>\n",
       "    </tr>\n",
       "    <tr>\n",
       "      <th>2023-04-18</th>\n",
       "      <td>0.00</td>\n",
       "      <td>59.0</td>\n",
       "      <td>46.0</td>\n",
       "      <td>62.0</td>\n",
       "    </tr>\n",
       "    <tr>\n",
       "      <th>2023-04-19</th>\n",
       "      <td>0.00</td>\n",
       "      <td>62.0</td>\n",
       "      <td>43.0</td>\n",
       "      <td>65.0</td>\n",
       "    </tr>\n",
       "    <tr>\n",
       "      <th>2023-04-20</th>\n",
       "      <td>0.00</td>\n",
       "      <td>65.0</td>\n",
       "      <td>42.0</td>\n",
       "      <td>72.0</td>\n",
       "    </tr>\n",
       "    <tr>\n",
       "      <th>2023-04-21</th>\n",
       "      <td>0.00</td>\n",
       "      <td>72.0</td>\n",
       "      <td>48.0</td>\n",
       "      <td>68.0</td>\n",
       "    </tr>\n",
       "  </tbody>\n",
       "</table>\n",
       "<p>8510 rows × 4 columns</p>\n",
       "</div>"
      ],
      "text/plain": [
       "            precip  temp_max  temp_min  target\n",
       "DATE                                          \n",
       "2000-01-01    0.00      54.0      41.0    54.0\n",
       "2000-01-02    0.00      54.0      34.0    55.0\n",
       "2000-01-03    0.00      55.0      33.0    54.0\n",
       "2000-01-04    0.01      54.0      35.0    59.0\n",
       "2000-01-05    0.00      59.0      36.0    58.0\n",
       "...            ...       ...       ...     ...\n",
       "2023-04-17    0.00      59.0      50.0    59.0\n",
       "2023-04-18    0.00      59.0      46.0    62.0\n",
       "2023-04-19    0.00      62.0      43.0    65.0\n",
       "2023-04-20    0.00      65.0      42.0    72.0\n",
       "2023-04-21    0.00      72.0      48.0    68.0\n",
       "\n",
       "[8510 rows x 4 columns]"
      ]
     },
     "execution_count": 35,
     "metadata": {},
     "output_type": "execute_result"
    }
   ],
   "source": [
    "core_weather"
   ]
  },
  {
   "cell_type": "code",
   "execution_count": 36,
   "id": "fe47fc7a",
   "metadata": {},
   "outputs": [
    {
     "name": "stdout",
     "output_type": "stream",
     "text": [
      "Requirement already satisfied: scikit-learn in c:\\users\\yubik\\appdata\\local\\programs\\python\\python311\\lib\\site-packages (1.2.2)\n",
      "Requirement already satisfied: numpy>=1.17.3 in c:\\users\\yubik\\appdata\\local\\programs\\python\\python311\\lib\\site-packages (from scikit-learn) (1.24.3)\n",
      "Requirement already satisfied: scipy>=1.3.2 in c:\\users\\yubik\\appdata\\local\\programs\\python\\python311\\lib\\site-packages (from scikit-learn) (1.10.1)\n",
      "Requirement already satisfied: joblib>=1.1.1 in c:\\users\\yubik\\appdata\\local\\programs\\python\\python311\\lib\\site-packages (from scikit-learn) (1.2.0)\n",
      "Requirement already satisfied: threadpoolctl>=2.0.0 in c:\\users\\yubik\\appdata\\local\\programs\\python\\python311\\lib\\site-packages (from scikit-learn) (3.1.0)\n",
      "Note: you may need to restart the kernel to use updated packages.\n"
     ]
    }
   ],
   "source": [
    "pip install scikit-learn\n"
   ]
  },
  {
   "cell_type": "code",
   "execution_count": 37,
   "id": "dceb932d",
   "metadata": {},
   "outputs": [],
   "source": [
    "from sklearn.linear_model import Ridge\n",
    "\n",
    "reg = Ridge(alpha=.1)"
   ]
  },
  {
   "cell_type": "code",
   "execution_count": 38,
   "id": "d0453865",
   "metadata": {},
   "outputs": [],
   "source": [
    "predictors = [\"precip\", \"temp_max\", \"temp_min\"]"
   ]
  },
  {
   "cell_type": "code",
   "execution_count": 39,
   "id": "111c5bcd",
   "metadata": {},
   "outputs": [],
   "source": [
    "train = core_weather.loc[:\"2020-12-31\"]\n",
    "test = core_weather.loc[\"2021-01-01\":]"
   ]
  },
  {
   "cell_type": "code",
   "execution_count": 40,
   "id": "6e66ab31",
   "metadata": {},
   "outputs": [
    {
     "data": {
      "text/html": [
       "<div>\n",
       "<style scoped>\n",
       "    .dataframe tbody tr th:only-of-type {\n",
       "        vertical-align: middle;\n",
       "    }\n",
       "\n",
       "    .dataframe tbody tr th {\n",
       "        vertical-align: top;\n",
       "    }\n",
       "\n",
       "    .dataframe thead th {\n",
       "        text-align: right;\n",
       "    }\n",
       "</style>\n",
       "<table border=\"1\" class=\"dataframe\">\n",
       "  <thead>\n",
       "    <tr style=\"text-align: right;\">\n",
       "      <th></th>\n",
       "      <th>precip</th>\n",
       "      <th>temp_max</th>\n",
       "      <th>temp_min</th>\n",
       "      <th>target</th>\n",
       "    </tr>\n",
       "    <tr>\n",
       "      <th>DATE</th>\n",
       "      <th></th>\n",
       "      <th></th>\n",
       "      <th></th>\n",
       "      <th></th>\n",
       "    </tr>\n",
       "  </thead>\n",
       "  <tbody>\n",
       "    <tr>\n",
       "      <th>2000-01-01</th>\n",
       "      <td>0.00</td>\n",
       "      <td>54.0</td>\n",
       "      <td>41.0</td>\n",
       "      <td>54.0</td>\n",
       "    </tr>\n",
       "    <tr>\n",
       "      <th>2000-01-02</th>\n",
       "      <td>0.00</td>\n",
       "      <td>54.0</td>\n",
       "      <td>34.0</td>\n",
       "      <td>55.0</td>\n",
       "    </tr>\n",
       "    <tr>\n",
       "      <th>2000-01-03</th>\n",
       "      <td>0.00</td>\n",
       "      <td>55.0</td>\n",
       "      <td>33.0</td>\n",
       "      <td>54.0</td>\n",
       "    </tr>\n",
       "    <tr>\n",
       "      <th>2000-01-04</th>\n",
       "      <td>0.01</td>\n",
       "      <td>54.0</td>\n",
       "      <td>35.0</td>\n",
       "      <td>59.0</td>\n",
       "    </tr>\n",
       "    <tr>\n",
       "      <th>2000-01-05</th>\n",
       "      <td>0.00</td>\n",
       "      <td>59.0</td>\n",
       "      <td>36.0</td>\n",
       "      <td>58.0</td>\n",
       "    </tr>\n",
       "    <tr>\n",
       "      <th>...</th>\n",
       "      <td>...</td>\n",
       "      <td>...</td>\n",
       "      <td>...</td>\n",
       "      <td>...</td>\n",
       "    </tr>\n",
       "    <tr>\n",
       "      <th>2020-12-27</th>\n",
       "      <td>0.00</td>\n",
       "      <td>63.0</td>\n",
       "      <td>44.0</td>\n",
       "      <td>61.0</td>\n",
       "    </tr>\n",
       "    <tr>\n",
       "      <th>2020-12-28</th>\n",
       "      <td>0.10</td>\n",
       "      <td>61.0</td>\n",
       "      <td>42.0</td>\n",
       "      <td>60.0</td>\n",
       "    </tr>\n",
       "    <tr>\n",
       "      <th>2020-12-29</th>\n",
       "      <td>0.00</td>\n",
       "      <td>60.0</td>\n",
       "      <td>39.0</td>\n",
       "      <td>56.0</td>\n",
       "    </tr>\n",
       "    <tr>\n",
       "      <th>2020-12-30</th>\n",
       "      <td>0.07</td>\n",
       "      <td>56.0</td>\n",
       "      <td>36.0</td>\n",
       "      <td>62.0</td>\n",
       "    </tr>\n",
       "    <tr>\n",
       "      <th>2020-12-31</th>\n",
       "      <td>0.06</td>\n",
       "      <td>62.0</td>\n",
       "      <td>44.0</td>\n",
       "      <td>60.0</td>\n",
       "    </tr>\n",
       "  </tbody>\n",
       "</table>\n",
       "<p>7669 rows × 4 columns</p>\n",
       "</div>"
      ],
      "text/plain": [
       "            precip  temp_max  temp_min  target\n",
       "DATE                                          \n",
       "2000-01-01    0.00      54.0      41.0    54.0\n",
       "2000-01-02    0.00      54.0      34.0    55.0\n",
       "2000-01-03    0.00      55.0      33.0    54.0\n",
       "2000-01-04    0.01      54.0      35.0    59.0\n",
       "2000-01-05    0.00      59.0      36.0    58.0\n",
       "...            ...       ...       ...     ...\n",
       "2020-12-27    0.00      63.0      44.0    61.0\n",
       "2020-12-28    0.10      61.0      42.0    60.0\n",
       "2020-12-29    0.00      60.0      39.0    56.0\n",
       "2020-12-30    0.07      56.0      36.0    62.0\n",
       "2020-12-31    0.06      62.0      44.0    60.0\n",
       "\n",
       "[7669 rows x 4 columns]"
      ]
     },
     "execution_count": 40,
     "metadata": {},
     "output_type": "execute_result"
    }
   ],
   "source": [
    "train"
   ]
  },
  {
   "cell_type": "code",
   "execution_count": 41,
   "id": "ef4b06d2",
   "metadata": {},
   "outputs": [
    {
     "data": {
      "text/html": [
       "<div>\n",
       "<style scoped>\n",
       "    .dataframe tbody tr th:only-of-type {\n",
       "        vertical-align: middle;\n",
       "    }\n",
       "\n",
       "    .dataframe tbody tr th {\n",
       "        vertical-align: top;\n",
       "    }\n",
       "\n",
       "    .dataframe thead th {\n",
       "        text-align: right;\n",
       "    }\n",
       "</style>\n",
       "<table border=\"1\" class=\"dataframe\">\n",
       "  <thead>\n",
       "    <tr style=\"text-align: right;\">\n",
       "      <th></th>\n",
       "      <th>precip</th>\n",
       "      <th>temp_max</th>\n",
       "      <th>temp_min</th>\n",
       "      <th>target</th>\n",
       "    </tr>\n",
       "    <tr>\n",
       "      <th>DATE</th>\n",
       "      <th></th>\n",
       "      <th></th>\n",
       "      <th></th>\n",
       "      <th></th>\n",
       "    </tr>\n",
       "  </thead>\n",
       "  <tbody>\n",
       "    <tr>\n",
       "      <th>2021-01-01</th>\n",
       "      <td>0.00</td>\n",
       "      <td>60.0</td>\n",
       "      <td>40.0</td>\n",
       "      <td>57.0</td>\n",
       "    </tr>\n",
       "    <tr>\n",
       "      <th>2021-01-02</th>\n",
       "      <td>0.14</td>\n",
       "      <td>57.0</td>\n",
       "      <td>51.0</td>\n",
       "      <td>56.0</td>\n",
       "    </tr>\n",
       "    <tr>\n",
       "      <th>2021-01-03</th>\n",
       "      <td>0.00</td>\n",
       "      <td>56.0</td>\n",
       "      <td>49.0</td>\n",
       "      <td>62.0</td>\n",
       "    </tr>\n",
       "    <tr>\n",
       "      <th>2021-01-04</th>\n",
       "      <td>0.36</td>\n",
       "      <td>62.0</td>\n",
       "      <td>46.0</td>\n",
       "      <td>59.0</td>\n",
       "    </tr>\n",
       "    <tr>\n",
       "      <th>2021-01-05</th>\n",
       "      <td>0.00</td>\n",
       "      <td>59.0</td>\n",
       "      <td>42.0</td>\n",
       "      <td>59.0</td>\n",
       "    </tr>\n",
       "    <tr>\n",
       "      <th>...</th>\n",
       "      <td>...</td>\n",
       "      <td>...</td>\n",
       "      <td>...</td>\n",
       "      <td>...</td>\n",
       "    </tr>\n",
       "    <tr>\n",
       "      <th>2023-04-17</th>\n",
       "      <td>0.00</td>\n",
       "      <td>59.0</td>\n",
       "      <td>50.0</td>\n",
       "      <td>59.0</td>\n",
       "    </tr>\n",
       "    <tr>\n",
       "      <th>2023-04-18</th>\n",
       "      <td>0.00</td>\n",
       "      <td>59.0</td>\n",
       "      <td>46.0</td>\n",
       "      <td>62.0</td>\n",
       "    </tr>\n",
       "    <tr>\n",
       "      <th>2023-04-19</th>\n",
       "      <td>0.00</td>\n",
       "      <td>62.0</td>\n",
       "      <td>43.0</td>\n",
       "      <td>65.0</td>\n",
       "    </tr>\n",
       "    <tr>\n",
       "      <th>2023-04-20</th>\n",
       "      <td>0.00</td>\n",
       "      <td>65.0</td>\n",
       "      <td>42.0</td>\n",
       "      <td>72.0</td>\n",
       "    </tr>\n",
       "    <tr>\n",
       "      <th>2023-04-21</th>\n",
       "      <td>0.00</td>\n",
       "      <td>72.0</td>\n",
       "      <td>48.0</td>\n",
       "      <td>68.0</td>\n",
       "    </tr>\n",
       "  </tbody>\n",
       "</table>\n",
       "<p>841 rows × 4 columns</p>\n",
       "</div>"
      ],
      "text/plain": [
       "            precip  temp_max  temp_min  target\n",
       "DATE                                          \n",
       "2021-01-01    0.00      60.0      40.0    57.0\n",
       "2021-01-02    0.14      57.0      51.0    56.0\n",
       "2021-01-03    0.00      56.0      49.0    62.0\n",
       "2021-01-04    0.36      62.0      46.0    59.0\n",
       "2021-01-05    0.00      59.0      42.0    59.0\n",
       "...            ...       ...       ...     ...\n",
       "2023-04-17    0.00      59.0      50.0    59.0\n",
       "2023-04-18    0.00      59.0      46.0    62.0\n",
       "2023-04-19    0.00      62.0      43.0    65.0\n",
       "2023-04-20    0.00      65.0      42.0    72.0\n",
       "2023-04-21    0.00      72.0      48.0    68.0\n",
       "\n",
       "[841 rows x 4 columns]"
      ]
     },
     "execution_count": 41,
     "metadata": {},
     "output_type": "execute_result"
    }
   ],
   "source": [
    "test"
   ]
  },
  {
   "cell_type": "code",
   "execution_count": 42,
   "id": "336abc78",
   "metadata": {},
   "outputs": [
    {
     "data": {
      "text/html": [
       "<style>#sk-container-id-1 {color: black;background-color: white;}#sk-container-id-1 pre{padding: 0;}#sk-container-id-1 div.sk-toggleable {background-color: white;}#sk-container-id-1 label.sk-toggleable__label {cursor: pointer;display: block;width: 100%;margin-bottom: 0;padding: 0.3em;box-sizing: border-box;text-align: center;}#sk-container-id-1 label.sk-toggleable__label-arrow:before {content: \"▸\";float: left;margin-right: 0.25em;color: #696969;}#sk-container-id-1 label.sk-toggleable__label-arrow:hover:before {color: black;}#sk-container-id-1 div.sk-estimator:hover label.sk-toggleable__label-arrow:before {color: black;}#sk-container-id-1 div.sk-toggleable__content {max-height: 0;max-width: 0;overflow: hidden;text-align: left;background-color: #f0f8ff;}#sk-container-id-1 div.sk-toggleable__content pre {margin: 0.2em;color: black;border-radius: 0.25em;background-color: #f0f8ff;}#sk-container-id-1 input.sk-toggleable__control:checked~div.sk-toggleable__content {max-height: 200px;max-width: 100%;overflow: auto;}#sk-container-id-1 input.sk-toggleable__control:checked~label.sk-toggleable__label-arrow:before {content: \"▾\";}#sk-container-id-1 div.sk-estimator input.sk-toggleable__control:checked~label.sk-toggleable__label {background-color: #d4ebff;}#sk-container-id-1 div.sk-label input.sk-toggleable__control:checked~label.sk-toggleable__label {background-color: #d4ebff;}#sk-container-id-1 input.sk-hidden--visually {border: 0;clip: rect(1px 1px 1px 1px);clip: rect(1px, 1px, 1px, 1px);height: 1px;margin: -1px;overflow: hidden;padding: 0;position: absolute;width: 1px;}#sk-container-id-1 div.sk-estimator {font-family: monospace;background-color: #f0f8ff;border: 1px dotted black;border-radius: 0.25em;box-sizing: border-box;margin-bottom: 0.5em;}#sk-container-id-1 div.sk-estimator:hover {background-color: #d4ebff;}#sk-container-id-1 div.sk-parallel-item::after {content: \"\";width: 100%;border-bottom: 1px solid gray;flex-grow: 1;}#sk-container-id-1 div.sk-label:hover label.sk-toggleable__label {background-color: #d4ebff;}#sk-container-id-1 div.sk-serial::before {content: \"\";position: absolute;border-left: 1px solid gray;box-sizing: border-box;top: 0;bottom: 0;left: 50%;z-index: 0;}#sk-container-id-1 div.sk-serial {display: flex;flex-direction: column;align-items: center;background-color: white;padding-right: 0.2em;padding-left: 0.2em;position: relative;}#sk-container-id-1 div.sk-item {position: relative;z-index: 1;}#sk-container-id-1 div.sk-parallel {display: flex;align-items: stretch;justify-content: center;background-color: white;position: relative;}#sk-container-id-1 div.sk-item::before, #sk-container-id-1 div.sk-parallel-item::before {content: \"\";position: absolute;border-left: 1px solid gray;box-sizing: border-box;top: 0;bottom: 0;left: 50%;z-index: -1;}#sk-container-id-1 div.sk-parallel-item {display: flex;flex-direction: column;z-index: 1;position: relative;background-color: white;}#sk-container-id-1 div.sk-parallel-item:first-child::after {align-self: flex-end;width: 50%;}#sk-container-id-1 div.sk-parallel-item:last-child::after {align-self: flex-start;width: 50%;}#sk-container-id-1 div.sk-parallel-item:only-child::after {width: 0;}#sk-container-id-1 div.sk-dashed-wrapped {border: 1px dashed gray;margin: 0 0.4em 0.5em 0.4em;box-sizing: border-box;padding-bottom: 0.4em;background-color: white;}#sk-container-id-1 div.sk-label label {font-family: monospace;font-weight: bold;display: inline-block;line-height: 1.2em;}#sk-container-id-1 div.sk-label-container {text-align: center;}#sk-container-id-1 div.sk-container {/* jupyter's `normalize.less` sets `[hidden] { display: none; }` but bootstrap.min.css set `[hidden] { display: none !important; }` so we also need the `!important` here to be able to override the default hidden behavior on the sphinx rendered scikit-learn.org. See: https://github.com/scikit-learn/scikit-learn/issues/21755 */display: inline-block !important;position: relative;}#sk-container-id-1 div.sk-text-repr-fallback {display: none;}</style><div id=\"sk-container-id-1\" class=\"sk-top-container\"><div class=\"sk-text-repr-fallback\"><pre>Ridge(alpha=0.1)</pre><b>In a Jupyter environment, please rerun this cell to show the HTML representation or trust the notebook. <br />On GitHub, the HTML representation is unable to render, please try loading this page with nbviewer.org.</b></div><div class=\"sk-container\" hidden><div class=\"sk-item\"><div class=\"sk-estimator sk-toggleable\"><input class=\"sk-toggleable__control sk-hidden--visually\" id=\"sk-estimator-id-1\" type=\"checkbox\" checked><label for=\"sk-estimator-id-1\" class=\"sk-toggleable__label sk-toggleable__label-arrow\">Ridge</label><div class=\"sk-toggleable__content\"><pre>Ridge(alpha=0.1)</pre></div></div></div></div></div>"
      ],
      "text/plain": [
       "Ridge(alpha=0.1)"
      ]
     },
     "execution_count": 42,
     "metadata": {},
     "output_type": "execute_result"
    }
   ],
   "source": [
    "reg.fit(train[predictors], train[\"target\"])"
   ]
  },
  {
   "cell_type": "code",
   "execution_count": 43,
   "id": "d38cec8c",
   "metadata": {},
   "outputs": [],
   "source": [
    "predictions = reg.predict(test[predictors])"
   ]
  },
  {
   "cell_type": "code",
   "execution_count": 44,
   "id": "6d3ba46d",
   "metadata": {},
   "outputs": [
    {
     "data": {
      "text/plain": [
       "19.848394387624797"
      ]
     },
     "execution_count": 44,
     "metadata": {},
     "output_type": "execute_result"
    }
   ],
   "source": [
    "from sklearn.metrics import mean_squared_error\n",
    "\n",
    "mean_squared_error(test[\"target\"], predictions)"
   ]
  },
  {
   "cell_type": "code",
   "execution_count": 45,
   "id": "c6123c5e",
   "metadata": {},
   "outputs": [],
   "source": [
    "combined = pd.concat([test[\"target\"], pd.Series(predictions, index=test.index)], axis=1)\n",
    "combined.columns = [\"actual\", \"predictions\"]"
   ]
  },
  {
   "cell_type": "code",
   "execution_count": 46,
   "id": "e2dfc7ec",
   "metadata": {},
   "outputs": [
    {
     "data": {
      "text/html": [
       "<div>\n",
       "<style scoped>\n",
       "    .dataframe tbody tr th:only-of-type {\n",
       "        vertical-align: middle;\n",
       "    }\n",
       "\n",
       "    .dataframe tbody tr th {\n",
       "        vertical-align: top;\n",
       "    }\n",
       "\n",
       "    .dataframe thead th {\n",
       "        text-align: right;\n",
       "    }\n",
       "</style>\n",
       "<table border=\"1\" class=\"dataframe\">\n",
       "  <thead>\n",
       "    <tr style=\"text-align: right;\">\n",
       "      <th></th>\n",
       "      <th>actual</th>\n",
       "      <th>predictions</th>\n",
       "    </tr>\n",
       "    <tr>\n",
       "      <th>DATE</th>\n",
       "      <th></th>\n",
       "      <th></th>\n",
       "    </tr>\n",
       "  </thead>\n",
       "  <tbody>\n",
       "    <tr>\n",
       "      <th>2021-01-01</th>\n",
       "      <td>57.0</td>\n",
       "      <td>60.405717</td>\n",
       "    </tr>\n",
       "    <tr>\n",
       "      <th>2021-01-02</th>\n",
       "      <td>56.0</td>\n",
       "      <td>59.799592</td>\n",
       "    </tr>\n",
       "    <tr>\n",
       "      <th>2021-01-03</th>\n",
       "      <td>62.0</td>\n",
       "      <td>59.133318</td>\n",
       "    </tr>\n",
       "    <tr>\n",
       "      <th>2021-01-04</th>\n",
       "      <td>59.0</td>\n",
       "      <td>61.862974</td>\n",
       "    </tr>\n",
       "    <tr>\n",
       "      <th>2021-01-05</th>\n",
       "      <td>59.0</td>\n",
       "      <td>60.044307</td>\n",
       "    </tr>\n",
       "    <tr>\n",
       "      <th>...</th>\n",
       "      <td>...</td>\n",
       "      <td>...</td>\n",
       "    </tr>\n",
       "    <tr>\n",
       "      <th>2023-04-17</th>\n",
       "      <td>59.0</td>\n",
       "      <td>61.430250</td>\n",
       "    </tr>\n",
       "    <tr>\n",
       "      <th>2023-04-18</th>\n",
       "      <td>62.0</td>\n",
       "      <td>60.737278</td>\n",
       "    </tr>\n",
       "    <tr>\n",
       "      <th>2023-04-19</th>\n",
       "      <td>65.0</td>\n",
       "      <td>62.341239</td>\n",
       "    </tr>\n",
       "    <tr>\n",
       "      <th>2023-04-20</th>\n",
       "      <td>72.0</td>\n",
       "      <td>64.291685</td>\n",
       "    </tr>\n",
       "    <tr>\n",
       "      <th>2023-04-21</th>\n",
       "      <td>68.0</td>\n",
       "      <td>70.286417</td>\n",
       "    </tr>\n",
       "  </tbody>\n",
       "</table>\n",
       "<p>841 rows × 2 columns</p>\n",
       "</div>"
      ],
      "text/plain": [
       "            actual  predictions\n",
       "DATE                           \n",
       "2021-01-01    57.0    60.405717\n",
       "2021-01-02    56.0    59.799592\n",
       "2021-01-03    62.0    59.133318\n",
       "2021-01-04    59.0    61.862974\n",
       "2021-01-05    59.0    60.044307\n",
       "...            ...          ...\n",
       "2023-04-17    59.0    61.430250\n",
       "2023-04-18    62.0    60.737278\n",
       "2023-04-19    65.0    62.341239\n",
       "2023-04-20    72.0    64.291685\n",
       "2023-04-21    68.0    70.286417\n",
       "\n",
       "[841 rows x 2 columns]"
      ]
     },
     "execution_count": 46,
     "metadata": {},
     "output_type": "execute_result"
    }
   ],
   "source": [
    "combined"
   ]
  },
  {
   "cell_type": "code",
   "execution_count": 47,
   "id": "eae22bf3",
   "metadata": {},
   "outputs": [
    {
     "data": {
      "text/plain": [
       "<Axes: xlabel='DATE'>"
      ]
     },
     "execution_count": 47,
     "metadata": {},
     "output_type": "execute_result"
    },
    {
     "data": {
      "image/png": "[encoded data removed]",
      "text/plain": [
       "<Figure size 640x480 with 1 Axes>"
      ]
     },
     "metadata": {},
     "output_type": "display_data"
    }
   ],
   "source": [
    "combined.plot()"
   ]
  },
  {
   "cell_type": "code",
   "execution_count": 48,
   "id": "9ee80701",
   "metadata": {},
   "outputs": [
    {
     "data": {
      "text/plain": [
       "array([-2.77220316,  0.70789633,  0.17324291])"
      ]
     },
     "execution_count": 48,
     "metadata": {},
     "output_type": "execute_result"
    }
   ],
   "source": [
    "reg.coef_"
   ]
  },
  {
   "cell_type": "code",
   "execution_count": 49,
   "id": "364e18e3",
   "metadata": {},
   "outputs": [],
   "source": [
    "core_weather[\"month_max\"] = core_weather[\"temp_max\"].rolling(30).mean()\n",
    "\n",
    "core_weather[\"month_day_max\"] = core_weather[\"month_max\"] / core_weather[\"temp_max\"]\n",
    "\n",
    "core_weather[\"max_min\"] = core_weather[\"temp_max\"] / core_weather[\"temp_min\"]"
   ]
  },
  {
   "cell_type": "code",
   "execution_count": 50,
   "id": "cb329a36",
   "metadata": {},
   "outputs": [],
   "source": [
    "core_weather = core_weather.iloc[30:,:].copy()"
   ]
  },
  {
   "cell_type": "code",
   "execution_count": 51,
   "id": "a99330c8",
   "metadata": {},
   "outputs": [],
   "source": [
    "def create_predictions(predictors, core_weather, reg):\n",
    "    train = core_weather.loc[:\"2020-12-31\"]\n",
    "    test = core_weather.loc[\"2021-01-01\":]\n",
    "\n",
    "    reg.fit(train[predictors], train[\"target\"])\n",
    "    predictions = reg.predict(test[predictors])\n",
    "\n",
    "    error = mean_squared_error(test[\"target\"], predictions)\n",
    "    \n",
    "    combined = pd.concat([test[\"target\"], pd.Series(predictions, index=test.index)], axis=1)\n",
    "    combined.columns = [\"actual\", \"predictions\"]\n",
    "    return error, combined"
   ]
  },
  {
   "cell_type": "code",
   "execution_count": 52,
   "id": "cf189a64",
   "metadata": {},
   "outputs": [
    {
     "data": {
      "text/plain": [
       "19.361103247925705"
      ]
     },
     "execution_count": 52,
     "metadata": {},
     "output_type": "execute_result"
    }
   ],
   "source": [
    "predictors = [\"precip\", \"temp_max\", \"temp_min\", \"month_day_max\", \"max_min\"]\n",
    "\n",
    "error, combined = create_predictions(predictors, core_weather, reg)\n",
    "error"
   ]
  },
  {
   "cell_type": "code",
   "execution_count": 53,
   "id": "15ceb60a",
   "metadata": {
    "scrolled": false
   },
   "outputs": [
    {
     "data": {
      "text/plain": [
       "<Axes: xlabel='DATE'>"
      ]
     },
     "execution_count": 53,
     "metadata": {},
     "output_type": "execute_result"
    },
    {
     "data": {
      "image/png": "[encoded data removed]",
      "text/plain": [
       "<Figure size 640x480 with 1 Axes>"
      ]
     },
     "metadata": {},
     "output_type": "display_data"
    }
   ],
   "source": [
    "combined.plot()"
   ]
  },
  {
   "cell_type": "code",
   "execution_count": 60,
   "id": "eeb74030",
   "metadata": {},
   "outputs": [],
   "source": [
    "core_weather[\"monthly_avg\"] = core_weather.groupby(core_weather.index.month)[\"temp_max\"].transform(lambda x: x.expanding(1).mean())\n",
    "core_weather[\"day_of_year_avg\"] = core_weather.groupby(core_weather.index.day_of_year)[\"temp_max\"].transform(lambda x: x.expanding(1).mean())"
   ]
  },
  {
   "cell_type": "code",
   "execution_count": 61,
   "id": "3fd58234",
   "metadata": {},
   "outputs": [
    {
     "data": {
      "text/plain": [
       "18.744524767939094"
      ]
     },
     "execution_count": 61,
     "metadata": {},
     "output_type": "execute_result"
    }
   ],
   "source": [
    "error, combined = create_predictions(predictors + [\"monthly_avg\", \"day_of_year_avg\"], core_weather, reg)\n",
    "error"
   ]
  },
  {
   "cell_type": "code",
   "execution_count": 62,
   "id": "472c6666",
   "metadata": {},
   "outputs": [
    {
     "data": {
      "text/plain": [
       "array([-1.50480699,  0.67119145,  0.04467701,  3.75951575,  0.06261903,\n",
       "        0.2022267 ,  0.0679675 ])"
      ]
     },
     "execution_count": 62,
     "metadata": {},
     "output_type": "execute_result"
    }
   ],
   "source": [
    "reg.coef_"
   ]
  },
  {
   "cell_type": "code",
   "execution_count": 63,
   "id": "9f9c67f4",
   "metadata": {},
   "outputs": [
    {
     "data": {
      "text/plain": [
       "precip            -0.220580\n",
       "temp_max           0.809173\n",
       "temp_min           0.568750\n",
       "target             1.000000\n",
       "month_max          0.664713\n",
       "month_day_max     -0.431777\n",
       "max_min            0.033401\n",
       "monthly_avg        0.674052\n",
       "day_of_year_avg    0.706332\n",
       "Name: target, dtype: float64"
      ]
     },
     "execution_count": 63,
     "metadata": {},
     "output_type": "execute_result"
    }
   ],
   "source": [
    "core_weather.corr()[\"target\"]"
   ]
  },
  {
   "cell_type": "code",
   "execution_count": 64,
   "id": "d6f5f89e",
   "metadata": {},
   "outputs": [],
   "source": [
    "combined[\"diff\"] = (combined[\"actual\"] - combined[\"predictions\"]).abs()"
   ]
  },
  {
   "cell_type": "code",
   "execution_count": 65,
   "id": "f30685d0",
   "metadata": {},
   "outputs": [
    {
     "data": {
      "text/html": [
       "<div>\n",
       "<style scoped>\n",
       "    .dataframe tbody tr th:only-of-type {\n",
       "        vertical-align: middle;\n",
       "    }\n",
       "\n",
       "    .dataframe tbody tr th {\n",
       "        vertical-align: top;\n",
       "    }\n",
       "\n",
       "    .dataframe thead th {\n",
       "        text-align: right;\n",
       "    }\n",
       "</style>\n",
       "<table border=\"1\" class=\"dataframe\">\n",
       "  <thead>\n",
       "    <tr style=\"text-align: right;\">\n",
       "      <th></th>\n",
       "      <th>actual</th>\n",
       "      <th>predictions</th>\n",
       "      <th>diff</th>\n",
       "    </tr>\n",
       "    <tr>\n",
       "      <th>DATE</th>\n",
       "      <th></th>\n",
       "      <th></th>\n",
       "      <th></th>\n",
       "    </tr>\n",
       "  </thead>\n",
       "  <tbody>\n",
       "    <tr>\n",
       "      <th>2022-06-20</th>\n",
       "      <td>98.0</td>\n",
       "      <td>77.154678</td>\n",
       "      <td>20.845322</td>\n",
       "    </tr>\n",
       "    <tr>\n",
       "      <th>2022-05-23</th>\n",
       "      <td>86.0</td>\n",
       "      <td>70.165393</td>\n",
       "      <td>15.834607</td>\n",
       "    </tr>\n",
       "    <tr>\n",
       "      <th>2021-01-17</th>\n",
       "      <td>83.0</td>\n",
       "      <td>68.706325</td>\n",
       "      <td>14.293675</td>\n",
       "    </tr>\n",
       "    <tr>\n",
       "      <th>2022-09-03</th>\n",
       "      <td>91.0</td>\n",
       "      <td>76.813165</td>\n",
       "      <td>14.186835</td>\n",
       "    </tr>\n",
       "    <tr>\n",
       "      <th>2021-04-01</th>\n",
       "      <td>62.0</td>\n",
       "      <td>76.128681</td>\n",
       "      <td>14.128681</td>\n",
       "    </tr>\n",
       "    <tr>\n",
       "      <th>2021-10-16</th>\n",
       "      <td>66.0</td>\n",
       "      <td>78.987869</td>\n",
       "      <td>12.987869</td>\n",
       "    </tr>\n",
       "    <tr>\n",
       "      <th>2021-05-07</th>\n",
       "      <td>81.0</td>\n",
       "      <td>68.218817</td>\n",
       "      <td>12.781183</td>\n",
       "    </tr>\n",
       "    <tr>\n",
       "      <th>2022-03-21</th>\n",
       "      <td>78.0</td>\n",
       "      <td>65.265192</td>\n",
       "      <td>12.734808</td>\n",
       "    </tr>\n",
       "    <tr>\n",
       "      <th>2022-09-05</th>\n",
       "      <td>102.0</td>\n",
       "      <td>89.291525</td>\n",
       "      <td>12.708475</td>\n",
       "    </tr>\n",
       "    <tr>\n",
       "      <th>2021-02-21</th>\n",
       "      <td>77.0</td>\n",
       "      <td>64.428514</td>\n",
       "      <td>12.571486</td>\n",
       "    </tr>\n",
       "  </tbody>\n",
       "</table>\n",
       "</div>"
      ],
      "text/plain": [
       "            actual  predictions       diff\n",
       "DATE                                      \n",
       "2022-06-20    98.0    77.154678  20.845322\n",
       "2022-05-23    86.0    70.165393  15.834607\n",
       "2021-01-17    83.0    68.706325  14.293675\n",
       "2022-09-03    91.0    76.813165  14.186835\n",
       "2021-04-01    62.0    76.128681  14.128681\n",
       "2021-10-16    66.0    78.987869  12.987869\n",
       "2021-05-07    81.0    68.218817  12.781183\n",
       "2022-03-21    78.0    65.265192  12.734808\n",
       "2022-09-05   102.0    89.291525  12.708475\n",
       "2021-02-21    77.0    64.428514  12.571486"
      ]
     },
     "execution_count": 65,
     "metadata": {},
     "output_type": "execute_result"
    }
   ],
   "source": [
    "combined.sort_values(\"diff\", ascending=False).head(10)"
   ]
  },
  {
   "cell_type": "code",
   "execution_count": null,
   "id": "cb0926a6",
   "metadata": {},
   "outputs": [],
   "source": []
  }
 ],
 "metadata": {
  "kernelspec": {
   "display_name": "Python 3 (ipykernel)",
   "language": "python",
   "name": "python3"
  },
  "language_info": {
   "codemirror_mode": {
    "name": "ipython",
    "version": 3
   },
   "file_extension": ".py",
   "mimetype": "text/x-python",
   "name": "python",
   "nbconvert_exporter": "python",
   "pygments_lexer": "ipython3",
   "version": "3.11.3"
  }
 },
 "nbformat": 4,
 "nbformat_minor": 5
}
